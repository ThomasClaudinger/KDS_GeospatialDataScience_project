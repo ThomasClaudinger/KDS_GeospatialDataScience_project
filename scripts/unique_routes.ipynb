{
 "cells": [
  {
   "cell_type": "code",
   "execution_count": null,
   "metadata": {},
   "outputs": [],
   "source": [
    "import geopandas as gpd\n",
    "import pandas as pd"
   ]
  },
  {
   "attachments": {},
   "cell_type": "markdown",
   "metadata": {},
   "source": [
    "We want to see how many unique routes there are in the dataset, as well as in part of the data we enriched with routes-data. "
   ]
  },
  {
   "cell_type": "code",
   "execution_count": null,
   "metadata": {},
   "outputs": [],
   "source": [
    "bike_data = pd.read_csv(\"../data/july_2022_filtered_renamed.csv\")\n",
    "bike_data = bike_data.drop(columns=[\"Unnamed: 0\"])"
   ]
  },
  {
   "cell_type": "code",
   "execution_count": null,
   "metadata": {},
   "outputs": [],
   "source": [
    "gdf = gpd.read_file(\"../data/data_all_gpd_v2.shp\")\n",
    "gdf.head(5)"
   ]
  },
  {
   "cell_type": "code",
   "execution_count": null,
   "metadata": {},
   "outputs": [],
   "source": [
    "# Get a list of unique routes (start and stop stations).\n",
    "\n",
    "routes_list_sorted = []\n",
    "routes_list = []\n",
    "\n",
    "for row in gdf[['st_st_id', 'en_st_id']].iterrows():\n",
    "    route = list(row[1])\n",
    "\n",
    "    if route not in routes_list:\n",
    "        routes_list.append(route)\n",
    "\n",
    "    route_sort = route\n",
    "    route_sort.sort()\n",
    "\n",
    "    if route not in routes_list_sorted:\n",
    "        routes_list_sorted.append(route)\n",
    "\n",
    "print('ENRICHED DATA')\n",
    "print(f'Routes when the order of start and stop is important: {len(routes_list)}')\n",
    "print(f'Routes when the order of start and stop is NOT important: {len(routes_list_sorted)}')"
   ]
  },
  {
   "cell_type": "code",
   "execution_count": 17,
   "metadata": {},
   "outputs": [
    {
     "name": "stdout",
     "output_type": "stream",
     "text": [
      "0 8174 [408, 448] [448, 408]\n"
     ]
    }
   ],
   "source": [
    "for idxA, routeA in enumerate(gdf[['st_st_id', 'en_st_id']].iterrows()):\n",
    "    routeA = list(routeA[1])\n",
    "\n",
    "    for idxB, routeB in enumerate(gdf[['st_st_id', 'en_st_id']].iterrows()):\n",
    "        routeB = list(routeB[1])\n",
    "\n",
    "        routeB_rev = [routeB[1], routeB[0]]\n",
    "\n",
    "        #print(routeA, routeB_rev)\n",
    "        if routeA == routeB_rev:\n",
    "            print(idxA, idxB, routeA, routeB)\n",
    "            break\n",
    "    if routeA == routeB_rev:\n",
    "        break"
   ]
  },
  {
   "cell_type": "code",
   "execution_count": 25,
   "metadata": {},
   "outputs": [
    {
     "name": "stdout",
     "output_type": "stream",
     "text": [
      "Check two between the same stations from different directions.\n"
     ]
    },
    {
     "data": {
      "text/html": [
       "<div>\n",
       "<style scoped>\n",
       "    .dataframe tbody tr th:only-of-type {\n",
       "        vertical-align: middle;\n",
       "    }\n",
       "\n",
       "    .dataframe tbody tr th {\n",
       "        vertical-align: top;\n",
       "    }\n",
       "\n",
       "    .dataframe thead th {\n",
       "        text-align: right;\n",
       "    }\n",
       "</style>\n",
       "<table border=\"1\" class=\"dataframe\">\n",
       "  <thead>\n",
       "    <tr style=\"text-align: right;\">\n",
       "      <th></th>\n",
       "      <th>st_st_id</th>\n",
       "      <th>st_st_name</th>\n",
       "      <th>en_st_id</th>\n",
       "      <th>en_st_name</th>\n",
       "      <th>minutes</th>\n",
       "      <th>id</th>\n",
       "      <th>total_dist</th>\n",
       "    </tr>\n",
       "  </thead>\n",
       "  <tbody>\n",
       "    <tr>\n",
       "      <th>0</th>\n",
       "      <td>408</td>\n",
       "      <td>Tøyen skole</td>\n",
       "      <td>448</td>\n",
       "      <td>Oslo Plaza</td>\n",
       "      <td>8</td>\n",
       "      <td>6044</td>\n",
       "      <td>1502.2</td>\n",
       "    </tr>\n",
       "    <tr>\n",
       "      <th>8174</th>\n",
       "      <td>448</td>\n",
       "      <td>Oslo Plaza</td>\n",
       "      <td>408</td>\n",
       "      <td>Tøyen skole</td>\n",
       "      <td>9</td>\n",
       "      <td>5210</td>\n",
       "      <td>1510.2</td>\n",
       "    </tr>\n",
       "  </tbody>\n",
       "</table>\n",
       "</div>"
      ],
      "text/plain": [
       "      st_st_id   st_st_name  en_st_id   en_st_name  minutes    id  total_dist\n",
       "0          408  Tøyen skole       448   Oslo Plaza        8  6044      1502.2\n",
       "8174       448   Oslo Plaza       408  Tøyen skole        9  5210      1510.2"
      ]
     },
     "metadata": {},
     "output_type": "display_data"
    },
    {
     "name": "stdout",
     "output_type": "stream",
     "text": [
      "We can see there is a difference in the distance and time between the two routes.\n"
     ]
    }
   ],
   "source": [
    "print(\"Check two between the same stations from different directions.\")\n",
    "display(gdf[['st_st_id', 'st_st_name', 'en_st_id', 'en_st_name', 'minutes', 'id', 'total_dist']].iloc[[0, 8174]])\n",
    "print('We can see there is a difference in the distance and time between the two routes.')"
   ]
  },
  {
   "cell_type": "code",
   "execution_count": 26,
   "metadata": {},
   "outputs": [
    {
     "name": "stdout",
     "output_type": "stream",
     "text": [
      "Routes when the order of start and stop is important: 18327\n",
      "Routes when the order of start and stop is NOT important: 11493\n"
     ]
    }
   ],
   "source": [
    "# Get a list of unique routes (start and stop stations).\n",
    "\n",
    "bd_routes_list_sorted = []\n",
    "bd_routes_list = []\n",
    "\n",
    "for row in bike_data[['st_st_id', 'en_st_id']].iterrows():\n",
    "    route = list(row[1])\n",
    "\n",
    "    if route not in bd_routes_list:\n",
    "        bd_routes_list.append(route)\n",
    "\n",
    "    route_sort = route\n",
    "    route_sort.sort()\n",
    "\n",
    "    if route not in bd_routes_list_sorted:\n",
    "        bd_routes_list_sorted.append(route)\n",
    "\n",
    "print(f'Routes when the order of start and stop is important: {len(bd_routes_list)}')\n",
    "print(f'Routes when the order of start and stop is NOT important: {len(bd_routes_list_sorted)}')"
   ]
  },
  {
   "cell_type": "code",
   "execution_count": null,
   "metadata": {},
   "outputs": [],
   "source": []
  }
 ],
 "metadata": {
  "kernelspec": {
   "display_name": "gds",
   "language": "python",
   "name": "python3"
  },
  "language_info": {
   "codemirror_mode": {
    "name": "ipython",
    "version": 3
   },
   "file_extension": ".py",
   "mimetype": "text/x-python",
   "name": "python",
   "nbconvert_exporter": "python",
   "pygments_lexer": "ipython3",
   "version": "3.9.12"
  },
  "orig_nbformat": 4
 },
 "nbformat": 4,
 "nbformat_minor": 2
}
